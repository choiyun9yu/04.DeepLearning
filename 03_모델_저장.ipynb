{
  "nbformat": 4,
  "nbformat_minor": 0,
  "metadata": {
    "colab": {
      "provenance": [],
      "collapsed_sections": []
    },
    "kernelspec": {
      "name": "python3",
      "display_name": "Python 3"
    },
    "language_info": {
      "name": "python"
    }
  },
  "cells": [
    {
      "cell_type": "markdown",
      "source": [
        "# 손실함수\n",
        "- 소프트맥스 : 함수의 출력은 분류하고자하는 클래스의 개수만큼 차원을 가지는 벡터로 각 원소는 0과 1사이의 값을 가집니다. 이 각각은 특정 클래스가 정답일 확률을 나타냅니다.\n",
        "\n",
        "- 하이퍼볼릭탄젠트 : 시그모이드는 0~ 1 사이로 환원해서 출력, 하이퍼볼릭 탄젠트도 출력값은 -1 ~ 1 사이로 출력해줌. (둘 다 기울기 소실 발생함), \n",
        "\n",
        "- 렐리 미분하면 양수는 1인 이유는 x가 0이상이면 입력값과 출력값 x, y가 같으니까 기울기가 1이니까 미분하면 양수는 무조건 1 "
      ],
      "metadata": {
        "id": "nzyfgocq6oCf"
      }
    },
    {
      "cell_type": "code",
      "source": [
        "from tensorflow.keras.callbacks import ModelCheckpoint, EarlyStopping\n",
        "from tensorflow.keras.models import Sequential\n",
        "from tensorflow.keras.layers import Dense\n",
        "# 신경망 생성\n",
        "model = Sequential()\n",
        "# 입력층\n",
        "model.add(Dense(units=8, input_dim=4, activation=\"softmax\"))\n",
        "# 은닉층\n",
        "model.add(Dense(16, activation=\"softmax\"))\n",
        "model.add(Dense(8, activation=\"softmax\"))\n",
        "# 출력층\n",
        "model.add(Dense(3, activation='softmax'))\n",
        "# 모델 요약\n",
        "model.summary()\n",
        "# 모델 컴파이\n",
        "model.compile(loss=\"categorical_crossentropy\", optimizer=\"adam\", metrics=\"accuracy\")\n",
        "# 베스트 모델을 저장하는 폴더\n",
        "model_dir = '모델 경로'\n",
        "# 저장할 파일명\n",
        "model_file =  fodel_dir + \"wine_{epchoch:02d}-{accuracy:.4f}.hdf5\"\n",
        "# 베스트 모델 저장 : 학습중 나타난 가장 좋은 모델 저장\n",
        "mcp = ModelCheckpoint(\n",
        "    filepath = model_file, # 파일이 저장될 경로\n",
        "    monitor = 'accuracy', # 무엇을 기준으로 모델의 성능을 평가할지 (loss가 들어갈수도 있음)\n",
        "    save_best_only = True, # 모델이 개선되었을때만 저장\n",
        "    verbose =1 # 진행 내용 출력\n",
        ")\n",
        "# 학습 중단 : 모델이 더이상 개선되지 않으면 학습을 중단\n",
        "es = EarlyStopping(\n",
        "    monitor = 'accuray', # 무엇을 기준으로 모델을 판단하고 개선되지 않으면 중단할지\n",
        "    patience = n # n번의 학습동안 모델이 개선되지 않아도 학습을 중단하지 않음 (연속)\n",
        ")\n",
        "# 모델 학습\n",
        "h = model03.fit(X_train3,y_train3, epochs=1000, batch_size=100, validation_data=(X_test, y_test), callbacks = [mpc,es])"
      ],
      "metadata": {
        "id": "AJZ9jIhLoYwz"
      },
      "execution_count": null,
      "outputs": []
    },
    {
      "cell_type": "code",
      "source": [],
      "metadata": {
        "id": "yl4h6PInoYzF"
      },
      "execution_count": null,
      "outputs": []
    },
    {
      "cell_type": "code",
      "source": [],
      "metadata": {
        "id": "SI-1Iy9aoY1e"
      },
      "execution_count": null,
      "outputs": []
    },
    {
      "cell_type": "code",
      "source": [],
      "metadata": {
        "id": "zneKtSLKoY3u"
      },
      "execution_count": null,
      "outputs": []
    },
    {
      "cell_type": "code",
      "source": [],
      "metadata": {
        "id": "t8bukF6CoY6V"
      },
      "execution_count": null,
      "outputs": []
    },
    {
      "cell_type": "code",
      "source": [],
      "metadata": {
        "id": "K4ToRp4boY80"
      },
      "execution_count": null,
      "outputs": []
    },
    {
      "cell_type": "code",
      "source": [],
      "metadata": {
        "id": "zIuMt_83oY_T"
      },
      "execution_count": null,
      "outputs": []
    },
    {
      "cell_type": "code",
      "source": [],
      "metadata": {
        "id": "CFmHxMQDoZBs"
      },
      "execution_count": null,
      "outputs": []
    },
    {
      "cell_type": "code",
      "source": [],
      "metadata": {
        "id": "bHheNehFoZD_"
      },
      "execution_count": null,
      "outputs": []
    },
    {
      "cell_type": "code",
      "source": [],
      "metadata": {
        "id": "XAKNM2HCoZGi"
      },
      "execution_count": null,
      "outputs": []
    },
    {
      "cell_type": "code",
      "source": [],
      "metadata": {
        "id": "9wN-3oqwoZJE"
      },
      "execution_count": null,
      "outputs": []
    }
  ]
}