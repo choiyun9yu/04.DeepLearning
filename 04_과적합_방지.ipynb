{
  "nbformat": 4,
  "nbformat_minor": 0,
  "metadata": {
    "colab": {
      "provenance": [],
      "toc_visible": true
    },
    "kernelspec": {
      "name": "python3",
      "display_name": "Python 3"
    },
    "language_info": {
      "name": "python"
    },
    "accelerator": "GPU"
  },
  "cells": [
    {
      "cell_type": "code",
      "source": [
        "# 현재 할당된 것이 CPU인지 GPU인지 확인\n",
        "import tensorflow as tf\n",
        "tf.config.experimental.list_physical_devices('GPU')\n",
        "\n",
        "# 할당된 GPU 실행\n",
        "import os\n",
        "\n",
        "os.environ[\"CUDA_VISIBLE_DEVICES\"] = \"0\"\n",
        "gpus = tf.config.experimental.list_physical_devices(\"GPU\")\n",
        "if gpus:\n",
        "  try:\n",
        "    # GPU 메모리 사용 설정\n",
        "    tf.config.experimental.set_memory_growth(gpus[0], True)  \n",
        "  except RuntimeError as re:\n",
        "    print(re)\n",
        "\n",
        "# GPU 메모리를 전부 할당하지 않고 필요에 따라 자동으로 할당하도록 설정\n",
        "from tensorflow.compat.v1 import ConfigProto, InteractiveSession\n",
        "config = ConfigProto()\n",
        "config.gpu_options.allow_growth = True\n",
        "session = InteractiveSession(config = config)"
      ],
      "metadata": {
        "id": "i_7vXUJPN-lU"
      },
      "execution_count": null,
      "outputs": []
    },
    {
      "cell_type": "code",
      "execution_count": null,
      "metadata": {
        "colab": {
          "base_uri": "https://localhost:8080/"
        },
        "id": "HHhAJgOpL9IP",
        "outputId": "77681edb-7cb7-492e-e783-30b78421d642"
      },
      "outputs": [
        {
          "output_type": "stream",
          "name": "stdout",
          "text": [
            "Drive already mounted at /content/drive; to attempt to forcibly remount, call drive.mount(\"/content/drive\", force_remount=True).\n"
          ]
        }
      ],
      "source": [
        "from google.colab import drive\n",
        "drive.mount('/content/drive')"
      ]
    },
    {
      "cell_type": "code",
      "source": [
        "#데이터 로드\n",
        "\n",
        "import pandas as pd\n",
        "\n",
        "sonar = pd.read_csv('/content/drive/MyDrive/Colab Notebooks/사물지능_딥러닝_2022/data/sonar.csv', header = None)\n",
        "sonar.head()"
      ],
      "metadata": {
        "colab": {
          "base_uri": "https://localhost:8080/",
          "height": 299
        },
        "id": "BxhwIWglNlTO",
        "outputId": "47d744ed-92b8-4421-f946-4db8228c1f9b"
      },
      "execution_count": null,
      "outputs": [
        {
          "output_type": "execute_result",
          "data": {
            "text/plain": [
              "       0       1       2       3       4       5       6       7       8   \\\n",
              "0  0.0200  0.0371  0.0428  0.0207  0.0954  0.0986  0.1539  0.1601  0.3109   \n",
              "1  0.0453  0.0523  0.0843  0.0689  0.1183  0.2583  0.2156  0.3481  0.3337   \n",
              "2  0.0262  0.0582  0.1099  0.1083  0.0974  0.2280  0.2431  0.3771  0.5598   \n",
              "3  0.0100  0.0171  0.0623  0.0205  0.0205  0.0368  0.1098  0.1276  0.0598   \n",
              "4  0.0762  0.0666  0.0481  0.0394  0.0590  0.0649  0.1209  0.2467  0.3564   \n",
              "\n",
              "       9   ...      51      52      53      54      55      56      57  \\\n",
              "0  0.2111  ...  0.0027  0.0065  0.0159  0.0072  0.0167  0.0180  0.0084   \n",
              "1  0.2872  ...  0.0084  0.0089  0.0048  0.0094  0.0191  0.0140  0.0049   \n",
              "2  0.6194  ...  0.0232  0.0166  0.0095  0.0180  0.0244  0.0316  0.0164   \n",
              "3  0.1264  ...  0.0121  0.0036  0.0150  0.0085  0.0073  0.0050  0.0044   \n",
              "4  0.4459  ...  0.0031  0.0054  0.0105  0.0110  0.0015  0.0072  0.0048   \n",
              "\n",
              "       58      59  60  \n",
              "0  0.0090  0.0032   R  \n",
              "1  0.0052  0.0044   R  \n",
              "2  0.0095  0.0078   R  \n",
              "3  0.0040  0.0117   R  \n",
              "4  0.0107  0.0094   R  \n",
              "\n",
              "[5 rows x 61 columns]"
            ],
            "text/html": [
              "\n",
              "  <div id=\"df-840d2114-4b64-4210-adc0-a2ec573d07b0\">\n",
              "    <div class=\"colab-df-container\">\n",
              "      <div>\n",
              "<style scoped>\n",
              "    .dataframe tbody tr th:only-of-type {\n",
              "        vertical-align: middle;\n",
              "    }\n",
              "\n",
              "    .dataframe tbody tr th {\n",
              "        vertical-align: top;\n",
              "    }\n",
              "\n",
              "    .dataframe thead th {\n",
              "        text-align: right;\n",
              "    }\n",
              "</style>\n",
              "<table border=\"1\" class=\"dataframe\">\n",
              "  <thead>\n",
              "    <tr style=\"text-align: right;\">\n",
              "      <th></th>\n",
              "      <th>0</th>\n",
              "      <th>1</th>\n",
              "      <th>2</th>\n",
              "      <th>3</th>\n",
              "      <th>4</th>\n",
              "      <th>5</th>\n",
              "      <th>6</th>\n",
              "      <th>7</th>\n",
              "      <th>8</th>\n",
              "      <th>9</th>\n",
              "      <th>...</th>\n",
              "      <th>51</th>\n",
              "      <th>52</th>\n",
              "      <th>53</th>\n",
              "      <th>54</th>\n",
              "      <th>55</th>\n",
              "      <th>56</th>\n",
              "      <th>57</th>\n",
              "      <th>58</th>\n",
              "      <th>59</th>\n",
              "      <th>60</th>\n",
              "    </tr>\n",
              "  </thead>\n",
              "  <tbody>\n",
              "    <tr>\n",
              "      <th>0</th>\n",
              "      <td>0.0200</td>\n",
              "      <td>0.0371</td>\n",
              "      <td>0.0428</td>\n",
              "      <td>0.0207</td>\n",
              "      <td>0.0954</td>\n",
              "      <td>0.0986</td>\n",
              "      <td>0.1539</td>\n",
              "      <td>0.1601</td>\n",
              "      <td>0.3109</td>\n",
              "      <td>0.2111</td>\n",
              "      <td>...</td>\n",
              "      <td>0.0027</td>\n",
              "      <td>0.0065</td>\n",
              "      <td>0.0159</td>\n",
              "      <td>0.0072</td>\n",
              "      <td>0.0167</td>\n",
              "      <td>0.0180</td>\n",
              "      <td>0.0084</td>\n",
              "      <td>0.0090</td>\n",
              "      <td>0.0032</td>\n",
              "      <td>R</td>\n",
              "    </tr>\n",
              "    <tr>\n",
              "      <th>1</th>\n",
              "      <td>0.0453</td>\n",
              "      <td>0.0523</td>\n",
              "      <td>0.0843</td>\n",
              "      <td>0.0689</td>\n",
              "      <td>0.1183</td>\n",
              "      <td>0.2583</td>\n",
              "      <td>0.2156</td>\n",
              "      <td>0.3481</td>\n",
              "      <td>0.3337</td>\n",
              "      <td>0.2872</td>\n",
              "      <td>...</td>\n",
              "      <td>0.0084</td>\n",
              "      <td>0.0089</td>\n",
              "      <td>0.0048</td>\n",
              "      <td>0.0094</td>\n",
              "      <td>0.0191</td>\n",
              "      <td>0.0140</td>\n",
              "      <td>0.0049</td>\n",
              "      <td>0.0052</td>\n",
              "      <td>0.0044</td>\n",
              "      <td>R</td>\n",
              "    </tr>\n",
              "    <tr>\n",
              "      <th>2</th>\n",
              "      <td>0.0262</td>\n",
              "      <td>0.0582</td>\n",
              "      <td>0.1099</td>\n",
              "      <td>0.1083</td>\n",
              "      <td>0.0974</td>\n",
              "      <td>0.2280</td>\n",
              "      <td>0.2431</td>\n",
              "      <td>0.3771</td>\n",
              "      <td>0.5598</td>\n",
              "      <td>0.6194</td>\n",
              "      <td>...</td>\n",
              "      <td>0.0232</td>\n",
              "      <td>0.0166</td>\n",
              "      <td>0.0095</td>\n",
              "      <td>0.0180</td>\n",
              "      <td>0.0244</td>\n",
              "      <td>0.0316</td>\n",
              "      <td>0.0164</td>\n",
              "      <td>0.0095</td>\n",
              "      <td>0.0078</td>\n",
              "      <td>R</td>\n",
              "    </tr>\n",
              "    <tr>\n",
              "      <th>3</th>\n",
              "      <td>0.0100</td>\n",
              "      <td>0.0171</td>\n",
              "      <td>0.0623</td>\n",
              "      <td>0.0205</td>\n",
              "      <td>0.0205</td>\n",
              "      <td>0.0368</td>\n",
              "      <td>0.1098</td>\n",
              "      <td>0.1276</td>\n",
              "      <td>0.0598</td>\n",
              "      <td>0.1264</td>\n",
              "      <td>...</td>\n",
              "      <td>0.0121</td>\n",
              "      <td>0.0036</td>\n",
              "      <td>0.0150</td>\n",
              "      <td>0.0085</td>\n",
              "      <td>0.0073</td>\n",
              "      <td>0.0050</td>\n",
              "      <td>0.0044</td>\n",
              "      <td>0.0040</td>\n",
              "      <td>0.0117</td>\n",
              "      <td>R</td>\n",
              "    </tr>\n",
              "    <tr>\n",
              "      <th>4</th>\n",
              "      <td>0.0762</td>\n",
              "      <td>0.0666</td>\n",
              "      <td>0.0481</td>\n",
              "      <td>0.0394</td>\n",
              "      <td>0.0590</td>\n",
              "      <td>0.0649</td>\n",
              "      <td>0.1209</td>\n",
              "      <td>0.2467</td>\n",
              "      <td>0.3564</td>\n",
              "      <td>0.4459</td>\n",
              "      <td>...</td>\n",
              "      <td>0.0031</td>\n",
              "      <td>0.0054</td>\n",
              "      <td>0.0105</td>\n",
              "      <td>0.0110</td>\n",
              "      <td>0.0015</td>\n",
              "      <td>0.0072</td>\n",
              "      <td>0.0048</td>\n",
              "      <td>0.0107</td>\n",
              "      <td>0.0094</td>\n",
              "      <td>R</td>\n",
              "    </tr>\n",
              "  </tbody>\n",
              "</table>\n",
              "<p>5 rows × 61 columns</p>\n",
              "</div>\n",
              "      <button class=\"colab-df-convert\" onclick=\"convertToInteractive('df-840d2114-4b64-4210-adc0-a2ec573d07b0')\"\n",
              "              title=\"Convert this dataframe to an interactive table.\"\n",
              "              style=\"display:none;\">\n",
              "        \n",
              "  <svg xmlns=\"http://www.w3.org/2000/svg\" height=\"24px\"viewBox=\"0 0 24 24\"\n",
              "       width=\"24px\">\n",
              "    <path d=\"M0 0h24v24H0V0z\" fill=\"none\"/>\n",
              "    <path d=\"M18.56 5.44l.94 2.06.94-2.06 2.06-.94-2.06-.94-.94-2.06-.94 2.06-2.06.94zm-11 1L8.5 8.5l.94-2.06 2.06-.94-2.06-.94L8.5 2.5l-.94 2.06-2.06.94zm10 10l.94 2.06.94-2.06 2.06-.94-2.06-.94-.94-2.06-.94 2.06-2.06.94z\"/><path d=\"M17.41 7.96l-1.37-1.37c-.4-.4-.92-.59-1.43-.59-.52 0-1.04.2-1.43.59L10.3 9.45l-7.72 7.72c-.78.78-.78 2.05 0 2.83L4 21.41c.39.39.9.59 1.41.59.51 0 1.02-.2 1.41-.59l7.78-7.78 2.81-2.81c.8-.78.8-2.07 0-2.86zM5.41 20L4 18.59l7.72-7.72 1.47 1.35L5.41 20z\"/>\n",
              "  </svg>\n",
              "      </button>\n",
              "      \n",
              "  <style>\n",
              "    .colab-df-container {\n",
              "      display:flex;\n",
              "      flex-wrap:wrap;\n",
              "      gap: 12px;\n",
              "    }\n",
              "\n",
              "    .colab-df-convert {\n",
              "      background-color: #E8F0FE;\n",
              "      border: none;\n",
              "      border-radius: 50%;\n",
              "      cursor: pointer;\n",
              "      display: none;\n",
              "      fill: #1967D2;\n",
              "      height: 32px;\n",
              "      padding: 0 0 0 0;\n",
              "      width: 32px;\n",
              "    }\n",
              "\n",
              "    .colab-df-convert:hover {\n",
              "      background-color: #E2EBFA;\n",
              "      box-shadow: 0px 1px 2px rgba(60, 64, 67, 0.3), 0px 1px 3px 1px rgba(60, 64, 67, 0.15);\n",
              "      fill: #174EA6;\n",
              "    }\n",
              "\n",
              "    [theme=dark] .colab-df-convert {\n",
              "      background-color: #3B4455;\n",
              "      fill: #D2E3FC;\n",
              "    }\n",
              "\n",
              "    [theme=dark] .colab-df-convert:hover {\n",
              "      background-color: #434B5C;\n",
              "      box-shadow: 0px 1px 3px 1px rgba(0, 0, 0, 0.15);\n",
              "      filter: drop-shadow(0px 1px 2px rgba(0, 0, 0, 0.3));\n",
              "      fill: #FFFFFF;\n",
              "    }\n",
              "  </style>\n",
              "\n",
              "      <script>\n",
              "        const buttonEl =\n",
              "          document.querySelector('#df-840d2114-4b64-4210-adc0-a2ec573d07b0 button.colab-df-convert');\n",
              "        buttonEl.style.display =\n",
              "          google.colab.kernel.accessAllowed ? 'block' : 'none';\n",
              "\n",
              "        async function convertToInteractive(key) {\n",
              "          const element = document.querySelector('#df-840d2114-4b64-4210-adc0-a2ec573d07b0');\n",
              "          const dataTable =\n",
              "            await google.colab.kernel.invokeFunction('convertToInteractive',\n",
              "                                                     [key], {});\n",
              "          if (!dataTable) return;\n",
              "\n",
              "          const docLinkHtml = 'Like what you see? Visit the ' +\n",
              "            '<a target=\"_blank\" href=https://colab.research.google.com/notebooks/data_table.ipynb>data table notebook</a>'\n",
              "            + ' to learn more about interactive tables.';\n",
              "          element.innerHTML = '';\n",
              "          dataTable['output_type'] = 'display_data';\n",
              "          await google.colab.output.renderOutput(dataTable, element);\n",
              "          const docLink = document.createElement('div');\n",
              "          docLink.innerHTML = docLinkHtml;\n",
              "          element.appendChild(docLink);\n",
              "        }\n",
              "      </script>\n",
              "    </div>\n",
              "  </div>\n",
              "  "
            ]
          },
          "metadata": {},
          "execution_count": 3
        }
      ]
    },
    {
      "cell_type": "code",
      "source": [
        "# 데이터 분리\n",
        "datasets = sonar.values\n",
        "X = datasets[:,:60]\n",
        "y = datasets[:,60]"
      ],
      "metadata": {
        "id": "ZSnbEzuhNxvF"
      },
      "execution_count": null,
      "outputs": []
    },
    {
      "cell_type": "code",
      "source": [
        "# 문자열로 된 데이터를 숫자로 변경\n",
        "from sklearn.preprocessing import LabelEncoder\n",
        "\n",
        "e = LabelEncoder()\n",
        "e.fit(y)\n",
        "y = e.transform(y)\n",
        "y"
      ],
      "metadata": {
        "colab": {
          "base_uri": "https://localhost:8080/"
        },
        "id": "ClctwsOlONXI",
        "outputId": "9ab4aaff-4c35-479c-9be1-06dc4722eea2"
      },
      "execution_count": null,
      "outputs": [
        {
          "output_type": "execute_result",
          "data": {
            "text/plain": [
              "array([1, 1, 1, 1, 1, 1, 1, 1, 1, 1, 1, 1, 1, 1, 1, 1, 1, 1, 1, 1, 1, 1,\n",
              "       1, 1, 1, 1, 1, 1, 1, 1, 1, 1, 1, 1, 1, 1, 1, 1, 1, 1, 1, 1, 1, 1,\n",
              "       1, 1, 1, 1, 1, 1, 1, 1, 1, 1, 1, 1, 1, 1, 1, 1, 1, 1, 1, 1, 1, 1,\n",
              "       1, 1, 1, 1, 1, 1, 1, 1, 1, 1, 1, 1, 1, 1, 1, 1, 1, 1, 1, 1, 1, 1,\n",
              "       1, 1, 1, 1, 1, 1, 1, 1, 1, 0, 0, 0, 0, 0, 0, 0, 0, 0, 0, 0, 0, 0,\n",
              "       0, 0, 0, 0, 0, 0, 0, 0, 0, 0, 0, 0, 0, 0, 0, 0, 0, 0, 0, 0, 0, 0,\n",
              "       0, 0, 0, 0, 0, 0, 0, 0, 0, 0, 0, 0, 0, 0, 0, 0, 0, 0, 0, 0, 0, 0,\n",
              "       0, 0, 0, 0, 0, 0, 0, 0, 0, 0, 0, 0, 0, 0, 0, 0, 0, 0, 0, 0, 0, 0,\n",
              "       0, 0, 0, 0, 0, 0, 0, 0, 0, 0, 0, 0, 0, 0, 0, 0, 0, 0, 0, 0, 0, 0,\n",
              "       0, 0, 0, 0, 0, 0, 0, 0, 0, 0])"
            ]
          },
          "metadata": {},
          "execution_count": 44
        }
      ]
    },
    {
      "cell_type": "code",
      "source": [
        "# 훈련과 테스트셋을 분리, 데이터 섞어주기\n",
        "from sklearn.model_selection import train_test_split\n",
        "X_train, X_test, y_train, y_test = train_test_split(X, y, test_size=0.3, random_state = 2022)\n",
        "\n",
        "X_train.shape, X_test.shape, y_train.shape, y_test.shape"
      ],
      "metadata": {
        "colab": {
          "base_uri": "https://localhost:8080/"
        },
        "id": "mjEVENj7OrDL",
        "outputId": "c75ed8f4-0ea6-4030-89f3-13ee3d335f61"
      },
      "execution_count": null,
      "outputs": [
        {
          "output_type": "execute_result",
          "data": {
            "text/plain": [
              "((145, 60), (63, 60), (145,), (63,))"
            ]
          },
          "metadata": {},
          "execution_count": 45
        }
      ]
    },
    {
      "cell_type": "code",
      "source": [
        "from tensorflow.keras.models import Sequential\n",
        "from tensorflow.keras.layers import Dense, Dropout\n",
        "\n",
        "# 모델 설계\n",
        "model1 = Sequential()\n",
        "\n",
        "# 입력층\n",
        "model1.add(Dense(units=64, input_dim=60, activation = 'relu'))\n",
        "# 은닉층\n",
        "model1.add(Dense(units=120, activation = 'relu'))\n",
        "model1.add(Dense(units=60, activation = 'relu'))\n",
        "model1.add(Dense(units=30, activation = 'relu'))\n",
        "# 출력층\n",
        "model1.add(Dense(units=1, activation = 'sigmoid'))\n",
        "\n",
        "#  모델 정보 요약\n",
        "model1.summary()"
      ],
      "metadata": {
        "colab": {
          "base_uri": "https://localhost:8080/"
        },
        "id": "Pxib2tNzPSNU",
        "outputId": "c0ef94ac-0295-4812-87d8-a73eaef88bfa"
      },
      "execution_count": null,
      "outputs": [
        {
          "output_type": "stream",
          "name": "stdout",
          "text": [
            "Model: \"sequential_5\"\n",
            "_________________________________________________________________\n",
            " Layer (type)                Output Shape              Param #   \n",
            "=================================================================\n",
            " dense_22 (Dense)            (None, 64)                3904      \n",
            "                                                                 \n",
            " dense_23 (Dense)            (None, 120)               7800      \n",
            "                                                                 \n",
            " dense_24 (Dense)            (None, 60)                7260      \n",
            "                                                                 \n",
            " dense_25 (Dense)            (None, 30)                1830      \n",
            "                                                                 \n",
            " dense_26 (Dense)            (None, 1)                 31        \n",
            "                                                                 \n",
            "=================================================================\n",
            "Total params: 20,825\n",
            "Trainable params: 20,825\n",
            "Non-trainable params: 0\n",
            "_________________________________________________________________\n"
          ]
        }
      ]
    },
    {
      "cell_type": "code",
      "source": [
        "# 실행방법 설정\n",
        "model1.compile(loss='binary_crossentropy', optimizer='adam', metrics = [\"accuracy\"])"
      ],
      "metadata": {
        "id": "ZgSqm_mzQZeS"
      },
      "execution_count": null,
      "outputs": []
    },
    {
      "cell_type": "code",
      "source": [
        "# 넘파이 배열을 텐서타입으로 바꿔줘야한다 (object to array)\n",
        "import numpy as np\n",
        "X_train = X_train.astype(np.float32)\n",
        "y_train = y_train.astype(np.float32)\n",
        "X_test = X_test.astype(np.float32)\n",
        "y_test = y_test.astype(np.float32)"
      ],
      "metadata": {
        "id": "CxZUh0DRQZko"
      },
      "execution_count": null,
      "outputs": []
    },
    {
      "cell_type": "code",
      "source": [
        "# # 벨리데이션이 없는데 벨리데이션이 있는 것 처럼 하는 방법 \n",
        "# # 과적합 되는지 학습하면서 확인하는 방법(벨리데이션 줘서 비교)\n",
        "# h = model1.fit(X_train, y_train, epochs=100, batch_size=20, validation_split = 0.3)  # 과적합 방지보다는 과적합 되는지 확인하는 용도 "
      ],
      "metadata": {
        "id": "OQ5v1hbkSm8Q"
      },
      "execution_count": null,
      "outputs": []
    },
    {
      "cell_type": "code",
      "source": [
        "# # 벨리데이션 넣은 모델 학습\n",
        "h = model1.fit(X_train, y_train, epochs=100, batch_size=20, validation_data=(X_test, y_test))"
      ],
      "metadata": {
        "colab": {
          "base_uri": "https://localhost:8080/"
        },
        "id": "lLYcqYaTSjOf",
        "outputId": "70c14b1e-06a2-4c06-863c-b074d1218525"
      },
      "execution_count": null,
      "outputs": [
        {
          "output_type": "stream",
          "name": "stdout",
          "text": [
            "Epoch 1/100\n",
            "8/8 [==============================] - 1s 26ms/step - loss: 0.6869 - accuracy: 0.4966 - val_loss: 0.6644 - val_accuracy: 0.7460\n",
            "Epoch 2/100\n",
            "8/8 [==============================] - 0s 6ms/step - loss: 0.6620 - accuracy: 0.7655 - val_loss: 0.6554 - val_accuracy: 0.7143\n",
            "Epoch 3/100\n",
            "8/8 [==============================] - 0s 8ms/step - loss: 0.6414 - accuracy: 0.7586 - val_loss: 0.6320 - val_accuracy: 0.7143\n",
            "Epoch 4/100\n",
            "8/8 [==============================] - 0s 6ms/step - loss: 0.6101 - accuracy: 0.7517 - val_loss: 0.6032 - val_accuracy: 0.6984\n",
            "Epoch 5/100\n",
            "8/8 [==============================] - 0s 9ms/step - loss: 0.5759 - accuracy: 0.7724 - val_loss: 0.5632 - val_accuracy: 0.7619\n",
            "Epoch 6/100\n",
            "8/8 [==============================] - 0s 7ms/step - loss: 0.5365 - accuracy: 0.7655 - val_loss: 0.5992 - val_accuracy: 0.6825\n",
            "Epoch 7/100\n",
            "8/8 [==============================] - 0s 8ms/step - loss: 0.5089 - accuracy: 0.7862 - val_loss: 0.5016 - val_accuracy: 0.7619\n",
            "Epoch 8/100\n",
            "8/8 [==============================] - 0s 9ms/step - loss: 0.4731 - accuracy: 0.8138 - val_loss: 0.5272 - val_accuracy: 0.6984\n",
            "Epoch 9/100\n",
            "8/8 [==============================] - 0s 9ms/step - loss: 0.4689 - accuracy: 0.7517 - val_loss: 0.6203 - val_accuracy: 0.6984\n",
            "Epoch 10/100\n",
            "8/8 [==============================] - 0s 9ms/step - loss: 0.4203 - accuracy: 0.8138 - val_loss: 0.4685 - val_accuracy: 0.7302\n",
            "Epoch 11/100\n",
            "8/8 [==============================] - 0s 8ms/step - loss: 0.4188 - accuracy: 0.8000 - val_loss: 0.5803 - val_accuracy: 0.6984\n",
            "Epoch 12/100\n",
            "8/8 [==============================] - 0s 7ms/step - loss: 0.3919 - accuracy: 0.8483 - val_loss: 0.4421 - val_accuracy: 0.7460\n",
            "Epoch 13/100\n",
            "8/8 [==============================] - 0s 9ms/step - loss: 0.3954 - accuracy: 0.8138 - val_loss: 0.5729 - val_accuracy: 0.6984\n",
            "Epoch 14/100\n",
            "8/8 [==============================] - 0s 8ms/step - loss: 0.4277 - accuracy: 0.7793 - val_loss: 0.5979 - val_accuracy: 0.6984\n",
            "Epoch 15/100\n",
            "8/8 [==============================] - 0s 7ms/step - loss: 0.4052 - accuracy: 0.8276 - val_loss: 0.4573 - val_accuracy: 0.7619\n",
            "Epoch 16/100\n",
            "8/8 [==============================] - 0s 7ms/step - loss: 0.3230 - accuracy: 0.8621 - val_loss: 0.5709 - val_accuracy: 0.6984\n",
            "Epoch 17/100\n",
            "8/8 [==============================] - 0s 7ms/step - loss: 0.3150 - accuracy: 0.9034 - val_loss: 0.4562 - val_accuracy: 0.7302\n",
            "Epoch 18/100\n",
            "8/8 [==============================] - 0s 7ms/step - loss: 0.2953 - accuracy: 0.8897 - val_loss: 0.5972 - val_accuracy: 0.6984\n",
            "Epoch 19/100\n",
            "8/8 [==============================] - 0s 7ms/step - loss: 0.2864 - accuracy: 0.8966 - val_loss: 0.4327 - val_accuracy: 0.7778\n",
            "Epoch 20/100\n",
            "8/8 [==============================] - 0s 7ms/step - loss: 0.2678 - accuracy: 0.9103 - val_loss: 0.5613 - val_accuracy: 0.7619\n",
            "Epoch 21/100\n",
            "8/8 [==============================] - 0s 6ms/step - loss: 0.2489 - accuracy: 0.9172 - val_loss: 0.4396 - val_accuracy: 0.7460\n",
            "Epoch 22/100\n",
            "8/8 [==============================] - 0s 8ms/step - loss: 0.3060 - accuracy: 0.8345 - val_loss: 0.6822 - val_accuracy: 0.6667\n",
            "Epoch 23/100\n",
            "8/8 [==============================] - 0s 6ms/step - loss: 0.2496 - accuracy: 0.8828 - val_loss: 0.4517 - val_accuracy: 0.7143\n",
            "Epoch 24/100\n",
            "8/8 [==============================] - 0s 9ms/step - loss: 0.2231 - accuracy: 0.9379 - val_loss: 0.4650 - val_accuracy: 0.7302\n",
            "Epoch 25/100\n",
            "8/8 [==============================] - 0s 9ms/step - loss: 0.2350 - accuracy: 0.8966 - val_loss: 0.7998 - val_accuracy: 0.6508\n",
            "Epoch 26/100\n",
            "8/8 [==============================] - 0s 7ms/step - loss: 0.2370 - accuracy: 0.9103 - val_loss: 0.4822 - val_accuracy: 0.7302\n",
            "Epoch 27/100\n",
            "8/8 [==============================] - 0s 9ms/step - loss: 0.1737 - accuracy: 0.9448 - val_loss: 0.6600 - val_accuracy: 0.6825\n",
            "Epoch 28/100\n",
            "8/8 [==============================] - 0s 7ms/step - loss: 0.2469 - accuracy: 0.8621 - val_loss: 0.4084 - val_accuracy: 0.8095\n",
            "Epoch 29/100\n",
            "8/8 [==============================] - 0s 6ms/step - loss: 0.2159 - accuracy: 0.8966 - val_loss: 0.5427 - val_accuracy: 0.7619\n",
            "Epoch 30/100\n",
            "8/8 [==============================] - 0s 10ms/step - loss: 0.1947 - accuracy: 0.9379 - val_loss: 0.5723 - val_accuracy: 0.7778\n",
            "Epoch 31/100\n",
            "8/8 [==============================] - 0s 9ms/step - loss: 0.1566 - accuracy: 0.9586 - val_loss: 0.4422 - val_accuracy: 0.7460\n",
            "Epoch 32/100\n",
            "8/8 [==============================] - 0s 9ms/step - loss: 0.1584 - accuracy: 0.9448 - val_loss: 0.4358 - val_accuracy: 0.7619\n",
            "Epoch 33/100\n",
            "8/8 [==============================] - 0s 9ms/step - loss: 0.1422 - accuracy: 0.9586 - val_loss: 0.6468 - val_accuracy: 0.7460\n",
            "Epoch 34/100\n",
            "8/8 [==============================] - 0s 9ms/step - loss: 0.1757 - accuracy: 0.9241 - val_loss: 0.6121 - val_accuracy: 0.7460\n",
            "Epoch 35/100\n",
            "8/8 [==============================] - 0s 7ms/step - loss: 0.1362 - accuracy: 0.9448 - val_loss: 0.4308 - val_accuracy: 0.7778\n",
            "Epoch 36/100\n",
            "8/8 [==============================] - 0s 9ms/step - loss: 0.1012 - accuracy: 0.9655 - val_loss: 0.7818 - val_accuracy: 0.7143\n",
            "Epoch 37/100\n",
            "8/8 [==============================] - 0s 8ms/step - loss: 0.1247 - accuracy: 0.9724 - val_loss: 0.4655 - val_accuracy: 0.7778\n",
            "Epoch 38/100\n",
            "8/8 [==============================] - 0s 9ms/step - loss: 0.1123 - accuracy: 0.9448 - val_loss: 0.4636 - val_accuracy: 0.7937\n",
            "Epoch 39/100\n",
            "8/8 [==============================] - 0s 9ms/step - loss: 0.1067 - accuracy: 0.9655 - val_loss: 0.7850 - val_accuracy: 0.7143\n",
            "Epoch 40/100\n",
            "8/8 [==============================] - 0s 7ms/step - loss: 0.0933 - accuracy: 0.9655 - val_loss: 0.4532 - val_accuracy: 0.8095\n",
            "Epoch 41/100\n",
            "8/8 [==============================] - 0s 7ms/step - loss: 0.0854 - accuracy: 0.9931 - val_loss: 0.6170 - val_accuracy: 0.7460\n",
            "Epoch 42/100\n",
            "8/8 [==============================] - 0s 7ms/step - loss: 0.0631 - accuracy: 1.0000 - val_loss: 0.5169 - val_accuracy: 0.7937\n",
            "Epoch 43/100\n",
            "8/8 [==============================] - 0s 8ms/step - loss: 0.0618 - accuracy: 0.9862 - val_loss: 0.5494 - val_accuracy: 0.7619\n",
            "Epoch 44/100\n",
            "8/8 [==============================] - 0s 9ms/step - loss: 0.0483 - accuracy: 0.9931 - val_loss: 0.6397 - val_accuracy: 0.7460\n",
            "Epoch 45/100\n",
            "8/8 [==============================] - 0s 7ms/step - loss: 0.0434 - accuracy: 0.9862 - val_loss: 0.6425 - val_accuracy: 0.7778\n",
            "Epoch 46/100\n",
            "8/8 [==============================] - 0s 9ms/step - loss: 0.0366 - accuracy: 1.0000 - val_loss: 0.6275 - val_accuracy: 0.7619\n",
            "Epoch 47/100\n",
            "8/8 [==============================] - 0s 7ms/step - loss: 0.0305 - accuracy: 0.9931 - val_loss: 0.6718 - val_accuracy: 0.7619\n",
            "Epoch 48/100\n",
            "8/8 [==============================] - 0s 9ms/step - loss: 0.0262 - accuracy: 1.0000 - val_loss: 0.6034 - val_accuracy: 0.7937\n",
            "Epoch 49/100\n",
            "8/8 [==============================] - 0s 7ms/step - loss: 0.0269 - accuracy: 1.0000 - val_loss: 0.7390 - val_accuracy: 0.7302\n",
            "Epoch 50/100\n",
            "8/8 [==============================] - 0s 9ms/step - loss: 0.0213 - accuracy: 1.0000 - val_loss: 0.6261 - val_accuracy: 0.8095\n",
            "Epoch 51/100\n",
            "8/8 [==============================] - 0s 7ms/step - loss: 0.0224 - accuracy: 1.0000 - val_loss: 0.7488 - val_accuracy: 0.7302\n",
            "Epoch 52/100\n",
            "8/8 [==============================] - 0s 7ms/step - loss: 0.0173 - accuracy: 1.0000 - val_loss: 0.6723 - val_accuracy: 0.7778\n",
            "Epoch 53/100\n",
            "8/8 [==============================] - 0s 7ms/step - loss: 0.0156 - accuracy: 1.0000 - val_loss: 0.7537 - val_accuracy: 0.7619\n",
            "Epoch 54/100\n",
            "8/8 [==============================] - 0s 7ms/step - loss: 0.0140 - accuracy: 1.0000 - val_loss: 0.7345 - val_accuracy: 0.7619\n",
            "Epoch 55/100\n",
            "8/8 [==============================] - 0s 7ms/step - loss: 0.0120 - accuracy: 1.0000 - val_loss: 0.7371 - val_accuracy: 0.7460\n",
            "Epoch 56/100\n",
            "8/8 [==============================] - 0s 8ms/step - loss: 0.0115 - accuracy: 1.0000 - val_loss: 0.7349 - val_accuracy: 0.7460\n",
            "Epoch 57/100\n",
            "8/8 [==============================] - 0s 7ms/step - loss: 0.0102 - accuracy: 1.0000 - val_loss: 0.7773 - val_accuracy: 0.7460\n",
            "Epoch 58/100\n",
            "8/8 [==============================] - 0s 7ms/step - loss: 0.0096 - accuracy: 1.0000 - val_loss: 0.7750 - val_accuracy: 0.7460\n",
            "Epoch 59/100\n",
            "8/8 [==============================] - 0s 7ms/step - loss: 0.0085 - accuracy: 1.0000 - val_loss: 0.7989 - val_accuracy: 0.7460\n",
            "Epoch 60/100\n",
            "8/8 [==============================] - 0s 9ms/step - loss: 0.0079 - accuracy: 1.0000 - val_loss: 0.7707 - val_accuracy: 0.7460\n",
            "Epoch 61/100\n",
            "8/8 [==============================] - 0s 6ms/step - loss: 0.0075 - accuracy: 1.0000 - val_loss: 0.7861 - val_accuracy: 0.7460\n",
            "Epoch 62/100\n",
            "8/8 [==============================] - 0s 9ms/step - loss: 0.0069 - accuracy: 1.0000 - val_loss: 0.8120 - val_accuracy: 0.7460\n",
            "Epoch 63/100\n",
            "8/8 [==============================] - 0s 9ms/step - loss: 0.0067 - accuracy: 1.0000 - val_loss: 0.8296 - val_accuracy: 0.7460\n",
            "Epoch 64/100\n",
            "8/8 [==============================] - 0s 9ms/step - loss: 0.0069 - accuracy: 1.0000 - val_loss: 0.8234 - val_accuracy: 0.7619\n",
            "Epoch 65/100\n",
            "8/8 [==============================] - 0s 13ms/step - loss: 0.0059 - accuracy: 1.0000 - val_loss: 0.8396 - val_accuracy: 0.7460\n",
            "Epoch 66/100\n",
            "8/8 [==============================] - 0s 11ms/step - loss: 0.0051 - accuracy: 1.0000 - val_loss: 0.8170 - val_accuracy: 0.7619\n",
            "Epoch 67/100\n",
            "8/8 [==============================] - 0s 10ms/step - loss: 0.0047 - accuracy: 1.0000 - val_loss: 0.8435 - val_accuracy: 0.7460\n",
            "Epoch 68/100\n",
            "8/8 [==============================] - 0s 7ms/step - loss: 0.0045 - accuracy: 1.0000 - val_loss: 0.8368 - val_accuracy: 0.7460\n",
            "Epoch 69/100\n",
            "8/8 [==============================] - 0s 7ms/step - loss: 0.0044 - accuracy: 1.0000 - val_loss: 0.8301 - val_accuracy: 0.7619\n",
            "Epoch 70/100\n",
            "8/8 [==============================] - 0s 7ms/step - loss: 0.0046 - accuracy: 1.0000 - val_loss: 0.9193 - val_accuracy: 0.7460\n",
            "Epoch 71/100\n",
            "8/8 [==============================] - 0s 11ms/step - loss: 0.0040 - accuracy: 1.0000 - val_loss: 0.8627 - val_accuracy: 0.7619\n",
            "Epoch 72/100\n",
            "8/8 [==============================] - 0s 13ms/step - loss: 0.0034 - accuracy: 1.0000 - val_loss: 0.9309 - val_accuracy: 0.7460\n",
            "Epoch 73/100\n",
            "8/8 [==============================] - 0s 13ms/step - loss: 0.0034 - accuracy: 1.0000 - val_loss: 0.8876 - val_accuracy: 0.7460\n",
            "Epoch 74/100\n",
            "8/8 [==============================] - 0s 14ms/step - loss: 0.0031 - accuracy: 1.0000 - val_loss: 0.8857 - val_accuracy: 0.7460\n",
            "Epoch 75/100\n",
            "8/8 [==============================] - 0s 14ms/step - loss: 0.0029 - accuracy: 1.0000 - val_loss: 0.9036 - val_accuracy: 0.7460\n",
            "Epoch 76/100\n",
            "8/8 [==============================] - 0s 12ms/step - loss: 0.0027 - accuracy: 1.0000 - val_loss: 0.9210 - val_accuracy: 0.7460\n",
            "Epoch 77/100\n",
            "8/8 [==============================] - 0s 14ms/step - loss: 0.0026 - accuracy: 1.0000 - val_loss: 0.9318 - val_accuracy: 0.7460\n",
            "Epoch 78/100\n",
            "8/8 [==============================] - 0s 7ms/step - loss: 0.0025 - accuracy: 1.0000 - val_loss: 0.9327 - val_accuracy: 0.7460\n",
            "Epoch 79/100\n",
            "8/8 [==============================] - 0s 7ms/step - loss: 0.0024 - accuracy: 1.0000 - val_loss: 0.9447 - val_accuracy: 0.7460\n",
            "Epoch 80/100\n",
            "8/8 [==============================] - 0s 9ms/step - loss: 0.0023 - accuracy: 1.0000 - val_loss: 0.9376 - val_accuracy: 0.7460\n",
            "Epoch 81/100\n",
            "8/8 [==============================] - 0s 7ms/step - loss: 0.0022 - accuracy: 1.0000 - val_loss: 0.9285 - val_accuracy: 0.7460\n",
            "Epoch 82/100\n",
            "8/8 [==============================] - 0s 7ms/step - loss: 0.0022 - accuracy: 1.0000 - val_loss: 0.9528 - val_accuracy: 0.7460\n",
            "Epoch 83/100\n",
            "8/8 [==============================] - 0s 7ms/step - loss: 0.0019 - accuracy: 1.0000 - val_loss: 0.9280 - val_accuracy: 0.7460\n",
            "Epoch 84/100\n",
            "8/8 [==============================] - 0s 9ms/step - loss: 0.0020 - accuracy: 1.0000 - val_loss: 0.9387 - val_accuracy: 0.7460\n",
            "Epoch 85/100\n",
            "8/8 [==============================] - 0s 10ms/step - loss: 0.0018 - accuracy: 1.0000 - val_loss: 0.9898 - val_accuracy: 0.7460\n",
            "Epoch 86/100\n",
            "8/8 [==============================] - 0s 9ms/step - loss: 0.0018 - accuracy: 1.0000 - val_loss: 0.9814 - val_accuracy: 0.7460\n",
            "Epoch 87/100\n",
            "8/8 [==============================] - 0s 7ms/step - loss: 0.0017 - accuracy: 1.0000 - val_loss: 0.9549 - val_accuracy: 0.7460\n",
            "Epoch 88/100\n",
            "8/8 [==============================] - 0s 10ms/step - loss: 0.0016 - accuracy: 1.0000 - val_loss: 0.9907 - val_accuracy: 0.7460\n",
            "Epoch 89/100\n",
            "8/8 [==============================] - 0s 7ms/step - loss: 0.0016 - accuracy: 1.0000 - val_loss: 0.9897 - val_accuracy: 0.7460\n",
            "Epoch 90/100\n",
            "8/8 [==============================] - 0s 7ms/step - loss: 0.0015 - accuracy: 1.0000 - val_loss: 0.9655 - val_accuracy: 0.7460\n",
            "Epoch 91/100\n",
            "8/8 [==============================] - 0s 7ms/step - loss: 0.0014 - accuracy: 1.0000 - val_loss: 1.0184 - val_accuracy: 0.7460\n",
            "Epoch 92/100\n",
            "8/8 [==============================] - 0s 7ms/step - loss: 0.0014 - accuracy: 1.0000 - val_loss: 0.9996 - val_accuracy: 0.7460\n",
            "Epoch 93/100\n",
            "8/8 [==============================] - 0s 7ms/step - loss: 0.0013 - accuracy: 1.0000 - val_loss: 1.0059 - val_accuracy: 0.7460\n",
            "Epoch 94/100\n",
            "8/8 [==============================] - 0s 7ms/step - loss: 0.0012 - accuracy: 1.0000 - val_loss: 1.0079 - val_accuracy: 0.7460\n",
            "Epoch 95/100\n",
            "8/8 [==============================] - 0s 7ms/step - loss: 0.0012 - accuracy: 1.0000 - val_loss: 0.9944 - val_accuracy: 0.7460\n",
            "Epoch 96/100\n",
            "8/8 [==============================] - 0s 9ms/step - loss: 0.0012 - accuracy: 1.0000 - val_loss: 1.0008 - val_accuracy: 0.7460\n",
            "Epoch 97/100\n",
            "8/8 [==============================] - 0s 7ms/step - loss: 0.0012 - accuracy: 1.0000 - val_loss: 1.0475 - val_accuracy: 0.7460\n",
            "Epoch 98/100\n",
            "8/8 [==============================] - 0s 9ms/step - loss: 0.0011 - accuracy: 1.0000 - val_loss: 1.0143 - val_accuracy: 0.7460\n",
            "Epoch 99/100\n",
            "8/8 [==============================] - 0s 9ms/step - loss: 0.0011 - accuracy: 1.0000 - val_loss: 1.0328 - val_accuracy: 0.7460\n",
            "Epoch 100/100\n",
            "8/8 [==============================] - 0s 9ms/step - loss: 0.0010 - accuracy: 1.0000 - val_loss: 1.0494 - val_accuracy: 0.7460\n"
          ]
        }
      ]
    },
    {
      "cell_type": "code",
      "source": [
        "# 벨리데이션 넣은 경우 matplotlib으로 그래프 그리기\n",
        "import matplotlib.pyplot as plt\n",
        "\n",
        "# 학습 결과에서 accuracy 값들을 가져온다\n",
        "accuracy = h.history[\"accuracy\"]\n",
        "val_accuracy = h.history[\"val_accuracy\"]\n",
        "\n",
        "# 반복 수\n",
        "xaxis = range(1, len(accuracy)+1)\n",
        "plt.plot(xaxis, accuracy, \"r\", label=\"train_accuracy\")\n",
        "plt.plot(xaxis, val_accuracy, \"b\", label=\"test_accuracy\")\n",
        "plt.legend(loc='lower right')"
      ],
      "metadata": {
        "colab": {
          "base_uri": "https://localhost:8080/",
          "height": 282
        },
        "id": "sKnkJiX9QZma",
        "outputId": "200e8567-d26f-4935-f33d-8a759d05d3fc"
      },
      "execution_count": null,
      "outputs": [
        {
          "output_type": "execute_result",
          "data": {
            "text/plain": [
              "<matplotlib.legend.Legend at 0x7f7ec22021d0>"
            ]
          },
          "metadata": {},
          "execution_count": 50
        },
        {
          "output_type": "display_data",
          "data": {
            "text/plain": [
              "<Figure size 432x288 with 1 Axes>"
            ],
            "image/png": "[encoded data removed]"
          },
          "metadata": {
            "needs_background": "light"
          }
        }
      ]
    },
    {
      "cell_type": "code",
      "source": [
        "print(model1.evaluate(X_train, y_train))\n",
        "print(model1.evaluate(X_test, y_test))"
      ],
      "metadata": {
        "colab": {
          "base_uri": "https://localhost:8080/"
        },
        "id": "zC7lR6uCQZoT",
        "outputId": "03ffba9e-e915-4f11-98b0-d8e874c64b38"
      },
      "execution_count": null,
      "outputs": [
        {
          "output_type": "stream",
          "name": "stdout",
          "text": [
            "5/5 [==============================] - 0s 3ms/step - loss: 9.7596e-04 - accuracy: 1.0000\n",
            "[0.000975964474491775, 1.0]\n",
            "2/2 [==============================] - 0s 7ms/step - loss: 1.0494 - accuracy: 0.7460\n",
            "[1.0494089126586914, 0.7460317611694336]\n"
          ]
        }
      ]
    },
    {
      "cell_type": "markdown",
      "source": [
        "# 과적합 방지\n",
        "\n",
        "- Dropout : 특정 층에 dropout을 쓰면 특정 층에 있는 노드 중 해당 %만큼을 랜덤하게 사용하지 않도록 해서 학습의 방향을 강제로 틀어서 과적합 방지"
      ],
      "metadata": {
        "id": "ssQJmhQcSIIs"
      }
    },
    {
      "cell_type": "code",
      "source": [
        "from tensorflow.keras.models import Sequential\n",
        "from tensorflow.keras.layers import Dense, Dropout\n",
        "\n",
        "# 모델 설계\n",
        "model2 = Sequential()\n",
        "\n",
        "# 입력층\n",
        "model2.add(Dense(units=64, input_dim=60, activation = 'relu'))\n",
        "# 은닉층\n",
        "model2.add(Dense(units=120, activation = 'relu'))\n",
        "model2.add(Dropout(0.3))  # 드랍아웃은 선언 된 위 층에 정의 됨\n",
        "model2.add(Dense(units=60, activation = 'relu'))\n",
        "model2.add(Dropout(0.3)) \n",
        "model2.add(Dense(units=30, activation = 'relu'))\n",
        "model2.add(Dropout(0.3)) \n",
        "# 출력층\n",
        "model2.add(Dense(units=1, activation = 'sigmoid'))\n",
        "\n",
        "#  모델 정보 요약\n",
        "model2.summary()"
      ],
      "metadata": {
        "colab": {
          "base_uri": "https://localhost:8080/"
        },
        "id": "QPiWxCtGRvsV",
        "outputId": "d9b50630-ed3a-46fc-eec6-526fc026da93"
      },
      "execution_count": null,
      "outputs": [
        {
          "output_type": "stream",
          "name": "stdout",
          "text": [
            "Model: \"sequential_6\"\n",
            "_________________________________________________________________\n",
            " Layer (type)                Output Shape              Param #   \n",
            "=================================================================\n",
            " dense_27 (Dense)            (None, 64)                3904      \n",
            "                                                                 \n",
            " dense_28 (Dense)            (None, 120)               7800      \n",
            "                                                                 \n",
            " dropout_3 (Dropout)         (None, 120)               0         \n",
            "                                                                 \n",
            " dense_29 (Dense)            (None, 60)                7260      \n",
            "                                                                 \n",
            " dropout_4 (Dropout)         (None, 60)                0         \n",
            "                                                                 \n",
            " dense_30 (Dense)            (None, 30)                1830      \n",
            "                                                                 \n",
            " dropout_5 (Dropout)         (None, 30)                0         \n",
            "                                                                 \n",
            " dense_31 (Dense)            (None, 1)                 31        \n",
            "                                                                 \n",
            "=================================================================\n",
            "Total params: 20,825\n",
            "Trainable params: 20,825\n",
            "Non-trainable params: 0\n",
            "_________________________________________________________________\n"
          ]
        }
      ]
    },
    {
      "cell_type": "code",
      "source": [
        "# 실행방법 설정\n",
        "model2.compile(loss='binary_crossentropy', optimizer='adam', metrics = [\"accuracy\"])"
      ],
      "metadata": {
        "id": "-gHXb0WERvua"
      },
      "execution_count": null,
      "outputs": []
    },
    {
      "cell_type": "code",
      "source": [
        "# # 벨리데이션 넣은 모델 학습\n",
        "h2 = model2.fit(X_train, y_train, epochs=100, batch_size=20, validation_data=(X_test, y_test))"
      ],
      "metadata": {
        "id": "ZmqrabldRvwn"
      },
      "execution_count": null,
      "outputs": []
    },
    {
      "cell_type": "code",
      "source": [
        "# 벨리데이션 넣은 경우 matplotlib으로 그래프 그리기\n",
        "import matplotlib.pyplot as plt\n",
        "\n",
        "# 학습 결과에서 accuracy 값들을 가져온다\n",
        "accuracy = h2.history[\"accuracy\"]\n",
        "val_accuracy = h2.history[\"val_accuracy\"]\n",
        "\n",
        "# 반복 수\n",
        "\n",
        "xaxis = range(1, len(accuracy)+1)\n",
        "plt.plot(xaxis, accuracy, \"r\", label=\"train_accuracy\")\n",
        "plt.plot(xaxis, val_accuracy, \"b\", label=\"test_accuracy\")\n",
        "plt.legend(loc='lower right')"
      ],
      "metadata": {
        "colab": {
          "base_uri": "https://localhost:8080/",
          "height": 282
        },
        "id": "LymhEajWWdRu",
        "outputId": "1118f4af-5a5f-408e-96a1-46cb8e092477"
      },
      "execution_count": null,
      "outputs": [
        {
          "output_type": "execute_result",
          "data": {
            "text/plain": [
              "<matplotlib.legend.Legend at 0x7f7ec2717310>"
            ]
          },
          "metadata": {},
          "execution_count": 56
        },
        {
          "output_type": "display_data",
          "data": {
            "text/plain": [
              "<Figure size 432x288 with 1 Axes>"
            ],
            "image/png": "[encoded data removed]"
          },
          "metadata": {
            "needs_background": "light"
          }
        }
      ]
    },
    {
      "cell_type": "code",
      "source": [
        "print(model2.evaluate(X_train, y_train))\n",
        "print(model2.evaluate(X_test, y_test))"
      ],
      "metadata": {
        "colab": {
          "base_uri": "https://localhost:8080/"
        },
        "id": "Aa0gLFscWgTI",
        "outputId": "aed479ce-08a8-4494-da87-4a574cbf91b2"
      },
      "execution_count": null,
      "outputs": [
        {
          "output_type": "stream",
          "name": "stdout",
          "text": [
            "5/5 [==============================] - 0s 3ms/step - loss: 0.0016 - accuracy: 1.0000\n",
            "[0.0016113859601318836, 1.0]\n",
            "2/2 [==============================] - 0s 7ms/step - loss: 0.7232 - accuracy: 0.8254\n",
            "[0.7232043743133545, 0.8253968358039856]\n"
          ]
        }
      ]
    },
    {
      "cell_type": "code",
      "source": [
        "# 모델 설계\n",
        "model3 = Sequential()\n",
        "\n",
        "# 입력층\n",
        "model3.add(Dense(units=64, input_dim=60, activation = 'relu'))\n",
        "# 은닉층\n",
        "model3.add(Dense(units=84, activation = 'relu'))\n",
        "model3.add(Dense(units=42, activation = 'relu'))\n",
        "model3.add(Dense(units=21, activation = 'relu'))\n",
        "# 출력층\n",
        "model3.add(Dense(units=1, activation = 'sigmoid'))\n",
        "\n",
        "# 실행방법 설정\n",
        "model3.compile(loss='binary_crossentropy', optimizer='adam', metrics = [\"accuracy\"])\n",
        "\n",
        "# # 벨리데이션 넣은 모델 학습\n",
        "h3 = model3.fit(X_train, y_train, epochs=100, batch_size=20, validation_data=(X_test, y_test))"
      ],
      "metadata": {
        "id": "yj0qB7joW9Z-"
      },
      "execution_count": null,
      "outputs": []
    },
    {
      "cell_type": "code",
      "source": [
        "# 벨리데이션 넣은 경우 matplotlib으로 그래프 그리기\n",
        "import matplotlib.pyplot as plt\n",
        "\n",
        "# 학습 결과에서 accuracy 값들을 가져온다\n",
        "accuracy = h.history[\"accuracy\"]\n",
        "val_accuracy = h.history[\"val_accuracy\"]\n",
        "\n",
        "# 반복 수\n",
        "xaxis = range(1, len(accuracy)+1) \n",
        "plt.plot(xaxis, accuracy, \"r\", label=\"train_accuracy\")\n",
        "plt.plot(xaxis, val_accuracy, \"b\", label=\"test_accuracy\")\n",
        "plt.legend(loc='lower right')\n",
        "plt.title(\"overfitting\")\n",
        "plt.show()\n",
        "\n",
        "# 학습 결과에서 accuracy 값들을 가져온다\n",
        "accuracy2 = h2.history[\"accuracy\"]\n",
        "val_accuracy2 = h2.history[\"val_accuracy\"]\n",
        "\n",
        "# 반복 수\n",
        "xaxis = range(1, len(accuracy)+1)\n",
        "plt.plot(xaxis, accuracy2, \"r\", label=\"train_accuracy\")\n",
        "plt.plot(xaxis, val_accuracy2, \"b\", label=\"test_accuracy\")\n",
        "plt.legend(loc='lower right')\n",
        "plt.title(\"dropout\")\n",
        "plt.show()\n",
        "\n",
        "# 학습 결과에서 accuracy 값들을 가져온다\n",
        "accuracy3 = h3.history[\"accuracy\"]\n",
        "val_accuracy3 = h3.history[\"val_accuracy\"]\n",
        "\n",
        "# 반복 수\n",
        "xaxis = range(1, len(accuracy)+1)\n",
        "plt.plot(xaxis, accuracy3, \"r\", label=\"train_accuracy\")\n",
        "plt.plot(xaxis, val_accuracy3, \"b\", label=\"test_accuracy\")\n",
        "plt.legend(loc='lower right')\n",
        "plt.title(\"node * 0.3\")\n",
        "plt.show()\n"
      ],
      "metadata": {
        "colab": {
          "base_uri": "https://localhost:8080/",
          "height": 809
        },
        "id": "aiNu9-o6ZAX2",
        "outputId": "c4c16fd3-f8e7-44d3-d360-03b17ee55aa3"
      },
      "execution_count": null,
      "outputs": [
        {
          "output_type": "display_data",
          "data": {
            "text/plain": [
              "<Figure size 432x288 with 1 Axes>"
            ],
            "image/png": "[encoded data removed]"
          },
          "metadata": {
            "needs_background": "light"
          }
        },
        {
          "output_type": "display_data",
          "data": {
            "text/plain": [
              "<Figure size 432x288 with 1 Axes>"
            ],
            "image/png": "[encoded data removed]"
          },
          "metadata": {
            "needs_background": "light"
          }
        },
        {
          "output_type": "display_data",
          "data": {
            "text/plain": [
              "<Figure size 432x288 with 1 Axes>"
            ],
            "image/png": "[encoded data removed]"
          },
          "metadata": {
            "needs_background": "light"
          }
        }
      ]
    }
  ]
}