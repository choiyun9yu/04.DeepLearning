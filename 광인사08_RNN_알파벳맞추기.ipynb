{
  "nbformat": 4,
  "nbformat_minor": 0,
  "metadata": {
    "colab": {
      "provenance": []
    },
    "kernelspec": {
      "name": "python3",
      "display_name": "Python 3"
    },
    "language_info": {
      "name": "python"
    },
    "accelerator": "GPU"
  },
  "cells": [
    {
      "cell_type": "markdown",
      "source": [
        "# RNN(Recurrent Neural Networks)\n",
        "\n",
        "- 앞의 입력 값을 기억\n",
        "- 앞에서 나온 입력에 대한 결과가 뒤에서 나오는 입력 값에 영향을 줌\n",
        "- 활성함수로 하이퍼볼릭탄젠트 사용, 미분하면 전체값이 0 ~ 0.5로 나와서 경사소실문제 야기하지만, 마지막(가까이 있는) 입력일수록 더 많이 영향을 끼치게하는 효과도 있어서 사용    \n",
        "    \n",
        "  \n",
        "- 문제점 : 예측하려는 것과 가장 높은 상관 관계를 가진 입력 값이 앞쪽에 있으면 미분으로 인한 경사소실로 예측하기 어려움\n",
        "- 해결방안 : LSTM(Long Short Term Memory)\n",
        "- LSTM : 기억을 관리 해줌 (데이터가 입력되는 순서에 따라서만 중요도를 생각하는 RNN과 달리 기존의 들어왔던 입력들의 중요도를 중간에 따로 계산함) 그럼 입력 순서에 상관없이 중요도가 설정됨"
      ],
      "metadata": {
        "id": "oWabRbFiSZQU"
      }
    },
    {
      "cell_type": "code",
      "source": [
        "# 5글자로 된 단어\n",
        "# 앞의 4글자를 입력하면 마지막 글자를 출력\n",
        "# great,  freak, right, light, fight, hello, apple\n",
        "# 머신러닝 한다 -> 글자가 아니라 숫자를 집어 넣겠다. <- 인코딩 작업 "
      ],
      "metadata": {
        "id": "0KeU_wcTSYWN"
      },
      "execution_count": null,
      "outputs": []
    },
    {
      "cell_type": "code",
      "source": [
        "# 들어간 문자\n",
        "# g, r, e, a, t, f, k, i, h, l, o, p"
      ],
      "metadata": {
        "id": "7XyxAObxSYYa"
      },
      "execution_count": null,
      "outputs": []
    },
    {
      "cell_type": "code",
      "source": [
        "# 12개의 알파벳 원핫인코딩\n",
        "g = [1,0,0,0,0,0,0,0,0,0,0,0]\n",
        "r = [0,1,0,0,0,0,0,0,0,0,0,0]\n",
        "e = [0,0,1,0,0,0,0,0,0,0,0,0]\n",
        "a = [0,0,0,1,0,0,0,0,0,0,0,0]\n",
        "t = [0,0,0,0,1,0,0,0,0,0,0,0]\n",
        "i = [0,0,0,0,0,1,0,0,0,0,0,0]\n",
        "h = [0,0,0,0,0,0,1,0,0,0,0,0]\n",
        "l = [0,0,0,0,0,0,0,1,0,0,0,0]\n",
        "f = [0,0,0,0,0,0,0,0,1,0,0,0]\n",
        "k = [0,0,0,0,0,0,0,0,0,1,0,0]\n",
        "o = [0,0,0,0,0,0,0,0,0,0,1,0]\n",
        "p = [0,0,0,0,0,0,0,0,0,0,0,1]\n"
      ],
      "metadata": {
        "id": "ZbZdHUdxSYa3"
      },
      "execution_count": null,
      "outputs": []
    },
    {
      "cell_type": "code",
      "source": [
        "# 데이터 만들기\n",
        "# great, right, light, freak, hello, apple, fight\n",
        "# [[h,e,l,l,o], [r,i,g,h,t],[l,i,g,h,t],[f,r,e,a,k],[f,i,g,h,t],[a,p,p,l,e], [g,r,e,a,t]]"
      ],
      "metadata": {
        "id": "nKbFVcbqSYdO"
      },
      "execution_count": null,
      "outputs": []
    },
    {
      "cell_type": "code",
      "source": [
        "import numpy as np\n",
        "data = np.array([\n",
        "    [g,r,e,a,t],\n",
        "    [r,i,g,h,t],\n",
        "    [l,i,g,h,t],\n",
        "    [f,i,g,h,t],\n",
        "    [f,r,e,a,k],\n",
        "    [a,p,p,l,e],\n",
        "    [h,e,l,l,o]\n",
        "])"
      ],
      "metadata": {
        "id": "WLMjGTdCSYfz"
      },
      "execution_count": null,
      "outputs": []
    },
    {
      "cell_type": "code",
      "source": [
        "data.shape\n",
        "# 데이터 갯수, 한 데이터 안의 변수의 개수, 변수의 개수\n",
        "# sample, timestamp, feature"
      ],
      "metadata": {
        "colab": {
          "base_uri": "https://localhost:8080/"
        },
        "id": "SIY_QF8YSYiA",
        "outputId": "e6e834ca-072b-4c5d-9a48-4faf2d9f3f24"
      },
      "execution_count": null,
      "outputs": [
        {
          "output_type": "execute_result",
          "data": {
            "text/plain": [
              "(7, 5, 12)"
            ]
          },
          "metadata": {},
          "execution_count": 3
        }
      ]
    },
    {
      "cell_type": "code",
      "source": [
        "X_train = data[:,:-1]\n",
        "y_train = data[:,-1]"
      ],
      "metadata": {
        "id": "rMcVAemmSYkm"
      },
      "execution_count": null,
      "outputs": []
    },
    {
      "cell_type": "code",
      "source": [
        "X_train.shape, y_train.shape"
      ],
      "metadata": {
        "colab": {
          "base_uri": "https://localhost:8080/"
        },
        "id": "Y0r84suASYnD",
        "outputId": "dc6566a6-53bc-4fac-dace-22ddc39ea2eb"
      },
      "execution_count": null,
      "outputs": [
        {
          "output_type": "execute_result",
          "data": {
            "text/plain": [
              "((7, 4, 12), (7, 12))"
            ]
          },
          "metadata": {},
          "execution_count": 5
        }
      ]
    },
    {
      "cell_type": "code",
      "source": [
        "# 모델링\n",
        "from tensorflow.keras.models import Sequential\n",
        "from tensorflow.keras.layers import Dense, SimpleRNN\n",
        "\n",
        "model = Sequential()\n",
        "\n",
        "model.add(SimpleRNN(units = 10, input_shape=(4,12)))   # input_shape=(timestamp, feature) / 기본 activation이 tanh(하이퍼볼릭탄젠트)\n",
        "\n",
        "model.add(Dense(12, activation='softmax'))   # 원핫인코딩한걸 라벨 값으로 가지고 있으니까 softmax\n",
        "\n",
        "model.summary()"
      ],
      "metadata": {
        "colab": {
          "base_uri": "https://localhost:8080/"
        },
        "id": "YG7MEsZHSYpg",
        "outputId": "65342a2f-f213-4f49-8ec4-fe3c79fb910a"
      },
      "execution_count": null,
      "outputs": [
        {
          "output_type": "stream",
          "name": "stdout",
          "text": [
            "Model: \"sequential_1\"\n",
            "_________________________________________________________________\n",
            " Layer (type)                Output Shape              Param #   \n",
            "=================================================================\n",
            " simple_rnn_1 (SimpleRNN)    (None, 10)                230       \n",
            "                                                                 \n",
            " dense_1 (Dense)             (None, 12)                132       \n",
            "                                                                 \n",
            "=================================================================\n",
            "Total params: 362\n",
            "Trainable params: 362\n",
            "Non-trainable params: 0\n",
            "_________________________________________________________________\n"
          ]
        }
      ]
    },
    {
      "cell_type": "code",
      "source": [
        "model.compile(loss='categorical_crossentropy', optimizer='adam', metrics=['accuracy'])"
      ],
      "metadata": {
        "id": "lfzBFyfvSYsG"
      },
      "execution_count": null,
      "outputs": []
    },
    {
      "cell_type": "code",
      "source": [
        "h1 = model.fit(X_train, y_train, epochs=500)"
      ],
      "metadata": {
        "id": "hknqrT0-SYuf"
      },
      "execution_count": null,
      "outputs": []
    },
    {
      "cell_type": "code",
      "source": [
        "# g,  r,  e,  a,  t,  i,  h,  l,  f,  k,  o,  p\n",
        "# 1,  2,  3,  4,  5,  6,  7,  8,  9,  10, 11, 12"
      ],
      "metadata": {
        "id": "Xwp-dIONSYxE"
      },
      "execution_count": null,
      "outputs": []
    },
    {
      "cell_type": "code",
      "source": [
        "X_test = np.array([[h,e,l,l]])"
      ],
      "metadata": {
        "id": "BVB7oUxnkAPD"
      },
      "execution_count": null,
      "outputs": []
    },
    {
      "cell_type": "code",
      "source": [
        "pre = model.predict(X_test)\n",
        "p1,p2,p3,p4,p5,p6,p7,p8,p9,p10,p11,p12 = pre[0][0],pre[0][1],pre[0][2],pre[0][3],pre[0][4],pre[0][5],pre[0][6],pre[0][7],pre[0][8],pre[0][9],pre[0][10],pre[0][11]\n",
        "list1 = [p1,p2,p3,p4,p5,p6,p7,p8,p9,p10,p11,p12]\n",
        "if max(list1) == p1:\n",
        "  print('g')\n",
        "elif max(list1) == p2:\n",
        "  print('r')\n",
        "elif max(list1) == p3:\n",
        "  print('e')\n",
        "elif max(list1) == p4:\n",
        "  print('a')\n",
        "elif max(list1) == p5:\n",
        "  print('t')\n",
        "elif max(list1) == p6:\n",
        "  print('i')\n",
        "elif max(list1) == p7:\n",
        "  print('h')\n",
        "elif max(list1) == p8:\n",
        "  print('l')\n",
        "elif max(list1) == p9:\n",
        "  print('f')\n",
        "elif max(list1) == p10:\n",
        "  print('k')\n",
        "elif max(list1) == p11:\n",
        "  print('o')\n",
        "elif max(list1) == p12:\n",
        "  print('p')"
      ],
      "metadata": {
        "colab": {
          "base_uri": "https://localhost:8080/"
        },
        "id": "XoF2U0TgSYzl",
        "outputId": "c6e34433-e454-4046-9245-c907c75bbda2"
      },
      "execution_count": null,
      "outputs": [
        {
          "output_type": "stream",
          "name": "stdout",
          "text": [
            "1/1 [==============================] - 0s 19ms/step\n",
            "o\n"
          ]
        }
      ]
    },
    {
      "cell_type": "markdown",
      "source": [],
      "metadata": {
        "id": "GkGVijcvla1a"
      }
    },
    {
      "cell_type": "code",
      "source": [],
      "metadata": {
        "id": "_oiaIszHSY44"
      },
      "execution_count": null,
      "outputs": []
    },
    {
      "cell_type": "code",
      "source": [],
      "metadata": {
        "id": "1dp5FQOdSY7d"
      },
      "execution_count": null,
      "outputs": []
    },
    {
      "cell_type": "code",
      "source": [],
      "metadata": {
        "id": "LLHqiwG0SY-R"
      },
      "execution_count": null,
      "outputs": []
    }
  ]
}